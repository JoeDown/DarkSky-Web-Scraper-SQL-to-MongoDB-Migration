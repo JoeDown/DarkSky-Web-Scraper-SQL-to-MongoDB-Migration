{
 "cells": [
  {
   "cell_type": "code",
   "execution_count": 19,
   "metadata": {
    "scrolled": true
   },
   "outputs": [
    {
     "name": "stdout",
     "output_type": "stream",
     "text": [
      "the record of Bayern Munich is: None\n",
      "The autoreload extension is already loaded. To reload it, use:\n",
      "  %reload_ext autoreload\n"
     ]
    }
   ],
   "source": [
    "%load_ext autoreload\n",
    "%autoreload 2"
   ]
  },
  {
   "cell_type": "code",
   "execution_count": 20,
   "metadata": {},
   "outputs": [],
   "source": [
    "import sqlite3\n",
    "import pandas as pd\n",
    "import matplotlib.pyplot as plt\n",
    "from pathlib import Path"
   ]
  },
  {
   "cell_type": "code",
   "execution_count": 21,
   "metadata": {},
   "outputs": [],
   "source": [
    "\n",
    "\n",
    "def con_sql(db_name, dialect=None):\n",
    "\tdb_file = Path(db_name)\n",
    "\tif not db_file.is_file():\n",
    "\t\tprint(\"no such database file: {}\".format(db_name))\n",
    "\t\treturn\n",
    "\tif dialect is None:\n",
    "\t\treturn sqlite3.connect(db_name)\n",
    "\treturn sqlite3.connect(db_name, dialect)"
   ]
  },
  {
   "cell_type": "code",
   "execution_count": 22,
   "metadata": {},
   "outputs": [],
   "source": [
    "# conn11 = sqlite3.Connection('database.sqlite')\n",
    "# c = conn11.cursor()"
   ]
  },
  {
   "cell_type": "code",
   "execution_count": 37,
   "metadata": {},
   "outputs": [
    {
     "name": "stderr",
     "output_type": "stream",
     "text": [
      "[autoreload of function_library failed: Traceback (most recent call last):\n",
      "  File \"/anaconda3/lib/python3.6/site-packages/IPython/extensions/autoreload.py\", line 244, in check\n",
      "    superreload(m, reload, self.old_objects)\n",
      "  File \"/anaconda3/lib/python3.6/site-packages/IPython/extensions/autoreload.py\", line 378, in superreload\n",
      "    module = reload(module)\n",
      "  File \"/anaconda3/lib/python3.6/imp.py\", line 315, in reload\n",
      "    return importlib.reload(module)\n",
      "  File \"/anaconda3/lib/python3.6/importlib/__init__.py\", line 166, in reload\n",
      "    _bootstrap._exec(spec, module)\n",
      "  File \"<frozen importlib._bootstrap>\", line 618, in _exec\n",
      "  File \"<frozen importlib._bootstrap_external>\", line 674, in exec_module\n",
      "  File \"<frozen importlib._bootstrap_external>\", line 781, in get_code\n",
      "  File \"<frozen importlib._bootstrap_external>\", line 741, in source_to_code\n",
      "  File \"<frozen importlib._bootstrap>\", line 219, in _call_with_frames_removed\n",
      "  File \"/Users/josephdown/Flatiron-Projects/dsc-mod-2-lab-houston-ds-042219/function_library.py\", line 138\n",
      "    df = pd.read_sql_query(q, conn)\n",
      "     ^\n",
      "SyntaxError: invalid syntax\n",
      "]\n"
     ]
    }
   ],
   "source": [
    "from function_library import *\n",
    "\n"
   ]
  },
  {
   "cell_type": "code",
   "execution_count": 38,
   "metadata": {},
   "outputs": [],
   "source": [
    "team_list = get_team_list()\n",
    "\n"
   ]
  },
  {
   "cell_type": "code",
   "execution_count": 39,
   "metadata": {},
   "outputs": [
    {
     "data": {
      "text/plain": [
       "['Bayern Munich',\n",
       " 'Dortmund',\n",
       " 'Leverkusen',\n",
       " 'RB Leipzig',\n",
       " 'Schalke 04',\n",
       " \"M'gladbach\",\n",
       " 'Wolfsburg',\n",
       " 'FC Koln',\n",
       " 'Hoffenheim',\n",
       " 'Hertha',\n",
       " 'Mainz',\n",
       " 'Hamburg',\n",
       " 'Werder Bremen',\n",
       " 'Ein Frankfurt',\n",
       " 'Augsburg',\n",
       " 'Freiburg',\n",
       " 'Stuttgart',\n",
       " 'Hannover',\n",
       " 'Ingolstadt',\n",
       " 'Darmstadt',\n",
       " 'Paderborn',\n",
       " 'Nurnberg',\n",
       " 'Braunschweig',\n",
       " 'Greuther Furth',\n",
       " 'Fortuna Dusseldorf',\n",
       " 'Kaiserslautern',\n",
       " 'St Pauli',\n",
       " 'Bochum',\n",
       " 'Karlsruhe',\n",
       " 'Bielefeld',\n",
       " 'Cottbus',\n",
       " 'Duisburg',\n",
       " 'Hansa Rostock',\n",
       " 'Aachen',\n",
       " 'Union Berlin',\n",
       " 'Heidenheim',\n",
       " 'Dresden',\n",
       " 'Sandhausen',\n",
       " 'Erzgebirge Aue',\n",
       " 'Kiel',\n",
       " 'Regensburg',\n",
       " 'Munich 1860',\n",
       " 'Wurzburger Kickers',\n",
       " 'Frankfurt FSV',\n",
       " 'Aalen',\n",
       " 'Oberhausen',\n",
       " 'Osnabruck',\n",
       " 'Koblenz',\n",
       " 'Ahlen',\n",
       " 'Wehen',\n",
       " 'CZ Jena',\n",
       " 'Offenbach',\n",
       " 'Burghausen',\n",
       " 'Unterhaching',\n",
       " 'Saarbrucken',\n",
       " 'Siegen',\n",
       " 'Babelsberg',\n",
       " 'Chemnitz',\n",
       " 'Ein Trier',\n",
       " 'Erfurt',\n",
       " 'F Koln',\n",
       " 'Gutersloh',\n",
       " 'Homburg',\n",
       " 'Lubeck',\n",
       " 'Mannheim',\n",
       " 'Meppen',\n",
       " 'Oldenburg',\n",
       " 'Reutlingen',\n",
       " 'Schweinfurt',\n",
       " 'Stuttgarter K',\n",
       " 'TB Berlin',\n",
       " 'Uerdingen',\n",
       " 'Ulm',\n",
       " 'Wattenscheid',\n",
       " 'Wuppertaler',\n",
       " 'Zwickau',\n",
       " 'RW Essen',\n",
       " \"M'Gladbach\",\n",
       " 'Arsenal',\n",
       " 'Aston Villa',\n",
       " 'Chelsea',\n",
       " 'Liverpool',\n",
       " 'Man City',\n",
       " 'Newcastle',\n",
       " 'Oldham',\n",
       " 'Sheffield United',\n",
       " 'Southampton',\n",
       " 'West Ham',\n",
       " 'Norwich',\n",
       " 'Tottenham',\n",
       " 'Everton',\n",
       " 'Ipswich',\n",
       " 'Leeds',\n",
       " 'Wimbledon',\n",
       " 'Blackburn',\n",
       " 'Coventry',\n",
       " 'Man United',\n",
       " 'QPR',\n",
       " 'Sheffield Weds',\n",
       " 'Swindon',\n",
       " 'Crystal Palace',\n",
       " 'Leicester',\n",
       " \"Nott'm Forest\",\n",
       " 'Bolton',\n",
       " 'Middlesbrough',\n",
       " 'Derby',\n",
       " 'Sunderland',\n",
       " 'Barnsley',\n",
       " 'Charlton',\n",
       " 'Watford',\n",
       " 'Bradford',\n",
       " 'Fulham',\n",
       " 'Birmingham',\n",
       " 'Middlesboro',\n",
       " 'West Brom',\n",
       " 'Portsmouth',\n",
       " 'Wolves',\n",
       " 'Wigan',\n",
       " 'Reading',\n",
       " 'Hull',\n",
       " 'Stoke',\n",
       " 'Burnley',\n",
       " 'Blackpool',\n",
       " 'Swansea',\n",
       " 'Cardiff',\n",
       " 'Bournemouth']"
      ]
     },
     "execution_count": 39,
     "metadata": {},
     "output_type": "execute_result"
    }
   ],
   "source": [
    "team_list"
   ]
  },
  {
   "cell_type": "code",
   "execution_count": 40,
   "metadata": {},
   "outputs": [],
   "source": [
    "list_of_team_objects = []\n",
    "for team in team_list:\n",
    "    locals()[team.replace(' ', '_')] = Team(team)\n",
    "    list_of_team_objects.append(locals()[team.replace(' ', '_')])\n",
    "    \n",
    "    \n",
    "    \n",
    "    "
   ]
  },
  {
   "cell_type": "code",
   "execution_count": 41,
   "metadata": {
    "scrolled": true
   },
   "outputs": [
    {
     "data": {
      "text/plain": [
       "'Bayern Munich'"
      ]
     },
     "execution_count": 41,
     "metadata": {},
     "output_type": "execute_result"
    }
   ],
   "source": [
    "list_of_team_objects[0].name\n"
   ]
  },
  {
   "cell_type": "code",
   "execution_count": 31,
   "metadata": {},
   "outputs": [
    {
     "data": {
      "text/plain": [
       "function_library.Team"
      ]
     },
     "execution_count": 31,
     "metadata": {},
     "output_type": "execute_result"
    }
   ],
   "source": [
    "type(Bayern_Munich)\n"
   ]
  },
  {
   "cell_type": "code",
   "execution_count": 32,
   "metadata": {},
   "outputs": [
    {
     "data": {
      "text/plain": [
       "'Bayern Munich'"
      ]
     },
     "execution_count": 32,
     "metadata": {},
     "output_type": "execute_result"
    }
   ],
   "source": [
    "Bayern_Munich.name\n",
    "\n"
   ]
  },
  {
   "cell_type": "code",
   "execution_count": 28,
   "metadata": {},
   "outputs": [
    {
     "data": {
      "text/plain": [
       "'Bayern Munich'"
      ]
     },
     "execution_count": 28,
     "metadata": {},
     "output_type": "execute_result"
    }
   ],
   "source": [
    "Bayern_Munich.name\n",
    "\n"
   ]
  },
  {
   "cell_type": "code",
   "execution_count": 29,
   "metadata": {},
   "outputs": [],
   "source": [
    "for team in list_of_team_objects:\n",
    "    team.set_game_dates_and_results_list\n",
    "    team.set_record\n",
    "    "
   ]
  },
  {
   "cell_type": "code",
   "execution_count": 33,
   "metadata": {
    "scrolled": true
   },
   "outputs": [
    {
     "name": "stdout",
     "output_type": "stream",
     "text": [
      "the record of Bayern Munich is: []\n"
     ]
    },
    {
     "data": {
      "text/plain": [
       "<bound method Team.set_record of <function_library.Team object at 0x11e5b1ac8>>"
      ]
     },
     "execution_count": 33,
     "metadata": {},
     "output_type": "execute_result"
    }
   ],
   "source": [
    "\n",
    "\n",
    "Bayern_Munich.set_record\n",
    "\n",
    "\n"
   ]
  },
  {
   "cell_type": "code",
   "execution_count": 35,
   "metadata": {},
   "outputs": [],
   "source": [
    "Bayern_Munich.set_name('B')"
   ]
  },
  {
   "cell_type": "code",
   "execution_count": 36,
   "metadata": {},
   "outputs": [
    {
     "data": {
      "text/plain": [
       "'B'"
      ]
     },
     "execution_count": 36,
     "metadata": {},
     "output_type": "execute_result"
    }
   ],
   "source": [
    "Bayern_Munich.name"
   ]
  },
  {
   "cell_type": "code",
   "execution_count": 56,
   "metadata": {},
   "outputs": [
    {
     "data": {
      "text/plain": [
       "<bound method Team.set_goals_scored of <function_library.Team object at 0x1225064e0>>"
      ]
     },
     "execution_count": 56,
     "metadata": {},
     "output_type": "execute_result"
    }
   ],
   "source": [
    "Bayern_Munich.set_goals_scored"
   ]
  },
  {
   "cell_type": "code",
   "execution_count": 57,
   "metadata": {},
   "outputs": [],
   "source": [
    "Bayern_Munich.record"
   ]
  },
  {
   "cell_type": "code",
   "execution_count": 58,
   "metadata": {},
   "outputs": [],
   "source": [
    "Bayern_Munich.goals_scored"
   ]
  },
  {
   "cell_type": "code",
   "execution_count": null,
   "metadata": {},
   "outputs": [],
   "source": []
  }
 ],
 "metadata": {
  "kernelspec": {
   "display_name": "Python 3",
   "language": "python",
   "name": "python3"
  },
  "language_info": {
   "codemirror_mode": {
    "name": "ipython",
    "version": 3
   },
   "file_extension": ".py",
   "mimetype": "text/x-python",
   "name": "python",
   "nbconvert_exporter": "python",
   "pygments_lexer": "ipython3",
   "version": "3.6.8"
  }
 },
 "nbformat": 4,
 "nbformat_minor": 2
}
