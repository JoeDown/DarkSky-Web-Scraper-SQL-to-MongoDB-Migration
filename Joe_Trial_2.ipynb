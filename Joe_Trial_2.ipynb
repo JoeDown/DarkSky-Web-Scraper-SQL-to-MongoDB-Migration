{
 "cells": [
  {
   "cell_type": "code",
   "execution_count": 55,
   "metadata": {},
   "outputs": [
    {
     "name": "stdout",
     "output_type": "stream",
     "text": [
      "The autoreload extension is already loaded. To reload it, use:\n",
      "  %reload_ext autoreload\n"
     ]
    }
   ],
   "source": [
    "%load_ext autoreload\n",
    "%autoreload 2"
   ]
  },
  {
   "cell_type": "code",
   "execution_count": 92,
   "metadata": {},
   "outputs": [],
   "source": [
    "import sqlite3\n",
    "import pandas as pd\n",
    "import matplotlib.pyplot as plt\n",
    "from pathlib import Path\n",
    "import seaborn as sns\n",
    "import pymongo"
   ]
  },
  {
   "cell_type": "code",
   "execution_count": 57,
   "metadata": {},
   "outputs": [],
   "source": [
    "def con_sql(db_name, dialect=None):\n",
    "\tdb_file = Path(db_name)\n",
    "\tif not db_file.is_file():\n",
    "\t\tprint(\"no such database file: {}\".format(db_name))\n",
    "\t\treturn\n",
    "\tif dialect is None:\n",
    "\t\treturn sqlite3.connect(db_name)\n",
    "\treturn sqlite3.connect(db_name, dialect)"
   ]
  },
  {
   "cell_type": "code",
   "execution_count": 58,
   "metadata": {},
   "outputs": [],
   "source": [
    "conn = sqlite3.Connection('database.sqlite')\n",
    "c = conn.cursor()"
   ]
  },
  {
   "cell_type": "code",
   "execution_count": 59,
   "metadata": {},
   "outputs": [],
   "source": [
    "class Team:\n",
    "    def __init__(self, name):\n",
    "        self.name = name\n",
    "        self.record = []\n",
    "        self.goals_scored = None\n",
    "        self.game_dates_and_results_list = None\n",
    "\n",
    "    #Gets a list of tuples of all the dates a team played \n",
    "    # and a binary value for whether they won or lost in the format (date, 1) or (date, 0)\n",
    "    def set_game_dates_and_results_list(self):\n",
    "        q=(\"\"\"\n",
    "        SELECT Date, FTR, HomeTeam, AwayTeam, Season\n",
    "        FROM Matches \n",
    "        WHERE (Season=2011) AND ((HomeTeam='{}') OR (AwayTeam='{}'))\n",
    "        ORDER BY Date\n",
    "        \"\"\".format(self.name, self.name))\n",
    "\n",
    "        df = pd.read_sql_query(q, conn)\n",
    "        date_result_tuple_list = []\n",
    "        for i, date in enumerate(df.Date):\n",
    "            if df.FTR[i]=='H' and df.HomeTeam[i]==self.name:\n",
    "                date_result_tuple_list.append((df.Date[i], 'W'))\n",
    "            elif df.FTR[i]=='H' and df.HomeTeam[i]!=self.name:\n",
    "                date_result_tuple_list.append((df.Date[i], 'L'))\n",
    "            elif df.FTR[i]=='A' and df.AwayTeam[i]==self.name:\n",
    "                date_result_tuple_list.append((df.Date[i], 'W'))\n",
    "            elif df.FTR[i]=='A' and df.AwayTeam[i]!=self.name:\n",
    "                date_result_tuple_list.append((df.Date[i], 'L'))\n",
    "            else:\n",
    "                date_result_tuple_list.append((df.Date[i], 'D'))\n",
    "\n",
    "        self.game_dates_and_results_list = date_result_tuple_list\n",
    "\n",
    "    #Sets the Team's GOALS SCORED\n",
    "    def set_goals_scored(self):\n",
    "        q=(\"\"\"\n",
    "        SELECT FTHG, FTAG\n",
    "        FROM Matches\n",
    "        WHERE (Season=2011) AND ((HomeTeam='{}') OR (AwayTeam='{}'))\n",
    "        \"\"\".format(self.name, self.name))\n",
    "\n",
    "        df = pd.read_sql_query(q, conn)\n",
    "        total_goals = df.FTHG.sum() + df.FTAG.sum()\n",
    "        self.goals_scored = total_goals\n",
    "\n",
    "    #Sets the Team's RECORD\n",
    "    def set_record(self):\n",
    "        #This finds the wins\n",
    "        q=(\"\"\"\n",
    "        SELECT FTR, HomeTeam, AwayTeam, Season  \n",
    "        FROM Matches\n",
    "        WHERE ((Season=2011) AND (HomeTeam='{}')) AND (FTR='H') OR ((Season=2011) AND (AwayTeam='{}')) AND (FTR='A')\n",
    "        \"\"\".format(self.name,self.name))\n",
    "\n",
    "        wins = pd.read_sql_query(q, conn)\n",
    "        num_wins = wins.shape[0]\n",
    "\n",
    "        #This finds the losses\n",
    "        q=(\"\"\"\n",
    "        SELECT FTHG, FTAG, FTR, HomeTeam, AwayTeam, Season  \n",
    "        FROM Matches\n",
    "        WHERE ((Season=2011) AND (HomeTeam='{}')) AND (FTR='A') OR ((Season=2011) AND (AwayTeam='{}')) AND (FTR='H')\n",
    "        \"\"\".format(self.name,self.name))\n",
    "\n",
    "        losses = pd.read_sql_query(q, conn)\n",
    "        num_losses = losses.shape[0]\n",
    "\n",
    "        #This finds the drawws\n",
    "        q=(\"\"\"\n",
    "        SELECT FTHG, FTAG, FTR, HomeTeam, AwayTeam, Season  \n",
    "        FROM Matches\n",
    "        WHERE ((Season=2011) AND (HomeTeam='{}')) AND (FTR='D') OR ((Season=2011) AND (AwayTeam='{}')) AND (FTR='D')\n",
    "        \"\"\".format(self.name,self.name))\n",
    "\n",
    "        draws = pd.read_sql_query(q, conn)\n",
    "        num_draws = draws.shape[0]\n",
    "        \n",
    "        record_list = [num_wins,num_losses,num_draws]\n",
    "        \n",
    "        self.record.append(num_wins)\n",
    "        self.record.append(num_losses)\n",
    "        self.record.append(num_draws)\n",
    "\n",
    "    def set_name(self, name):\n",
    "        self.name = name\n",
    "        \n",
    "\n",
    "\n"
   ]
  },
  {
   "cell_type": "code",
   "execution_count": 60,
   "metadata": {},
   "outputs": [],
   "source": [
    "#Gets a list of all the teams that played in the 2011 season\n",
    "def get_team_list():\n",
    "        q=(\"\"\"\n",
    "        SELECT TeamName  \n",
    "        FROM Unique_Teams u\n",
    "        JOIN Matches m\n",
    "        WHERE (u.TeamName=m.HomeTeam) OR (u.TeamName=m.AwayTeam) AND (m.Season=2011)\n",
    "        \"\"\")\n",
    "        df = pd.read_sql_query(q, conn)\n",
    "        df.drop_duplicates('TeamName', inplace=True)\n",
    "        \n",
    "        team_name_list = list(df.TeamName)\n",
    "        team_name_list.remove(\"M'gladbach\")\n",
    "        team_name_list.remove(\"M'Gladbach\")\n",
    "        team_name_list.remove(\"Nott'm Forest\")\n",
    "        \n",
    "        return team_name_list"
   ]
  },
  {
   "cell_type": "code",
   "execution_count": 73,
   "metadata": {},
   "outputs": [],
   "source": [
    "\n"
   ]
  },
  {
   "cell_type": "code",
   "execution_count": 62,
   "metadata": {},
   "outputs": [],
   "source": [
    "team_list = get_team_list()"
   ]
  },
  {
   "cell_type": "code",
   "execution_count": 63,
   "metadata": {},
   "outputs": [],
   "source": [
    "list_of_team_objects = []\n",
    "for team in team_list:\n",
    "    locals()[team.replace(' ', '_')] = Team(team)\n",
    "    list_of_team_objects.append(locals()[team.replace(' ', '_')])"
   ]
  },
  {
   "cell_type": "code",
   "execution_count": 64,
   "metadata": {
    "scrolled": false
   },
   "outputs": [],
   "source": [
    "for team in list_of_team_objects:\n",
    "    team.set_game_dates_and_results_list()\n",
    "    team.set_record()\n",
    "    team.set_goals_scored()\n",
    "    "
   ]
  },
  {
   "cell_type": "code",
   "execution_count": 114,
   "metadata": {},
   "outputs": [
    {
     "name": "stdout",
     "output_type": "stream",
     "text": [
      "images/Bayern_Munich.png\n",
      "images/Dortmund.png\n",
      "images/Leverkusen.png\n",
      "images/RB_Leipzig.png\n",
      "images/Schalke_04.png\n",
      "images/Wolfsburg.png\n",
      "images/FC_Koln.png\n",
      "images/Hoffenheim.png\n",
      "images/Hertha.png\n",
      "images/Mainz.png\n",
      "images/Hamburg.png\n",
      "images/Werder_Bremen.png\n",
      "images/Ein_Frankfurt.png\n",
      "images/Augsburg.png\n",
      "images/Freiburg.png\n",
      "images/Stuttgart.png\n",
      "images/Hannover.png\n",
      "images/Ingolstadt.png\n",
      "images/Darmstadt.png\n",
      "images/Paderborn.png\n",
      "images/Nurnberg.png\n",
      "images/Braunschweig.png\n",
      "images/Greuther_Furth.png\n",
      "images/Fortuna_Dusseldorf.png\n",
      "images/Kaiserslautern.png\n",
      "images/St_Pauli.png\n",
      "images/Bochum.png\n",
      "images/Karlsruhe.png\n",
      "images/Bielefeld.png\n",
      "images/Cottbus.png\n",
      "images/Duisburg.png\n",
      "images/Hansa_Rostock.png\n",
      "images/Aachen.png\n",
      "images/Union_Berlin.png\n",
      "images/Heidenheim.png\n",
      "images/Dresden.png\n",
      "images/Sandhausen.png\n",
      "images/Erzgebirge_Aue.png\n",
      "images/Kiel.png\n",
      "images/Regensburg.png\n",
      "images/Munich_1860.png\n",
      "images/Wurzburger_Kickers.png\n",
      "images/Frankfurt_FSV.png\n",
      "images/Aalen.png\n",
      "images/Oberhausen.png\n",
      "images/Osnabruck.png\n",
      "images/Koblenz.png\n",
      "images/Ahlen.png\n",
      "images/Wehen.png\n",
      "images/CZ_Jena.png\n",
      "images/Offenbach.png\n",
      "images/Burghausen.png\n",
      "images/Unterhaching.png\n",
      "images/Saarbrucken.png\n",
      "images/Siegen.png\n",
      "images/Babelsberg.png\n",
      "images/Chemnitz.png\n",
      "images/Ein_Trier.png\n",
      "images/Erfurt.png\n",
      "images/F_Koln.png\n",
      "images/Gutersloh.png\n",
      "images/Homburg.png\n",
      "images/Lubeck.png\n",
      "images/Mannheim.png\n",
      "images/Meppen.png\n",
      "images/Oldenburg.png\n",
      "images/Reutlingen.png\n",
      "images/Schweinfurt.png\n",
      "images/Stuttgarter_K.png\n",
      "images/TB_Berlin.png\n",
      "images/Uerdingen.png\n",
      "images/Ulm.png\n",
      "images/Wattenscheid.png\n",
      "images/Wuppertaler.png\n",
      "images/Zwickau.png\n",
      "images/RW_Essen.png\n",
      "images/Arsenal.png\n",
      "images/Aston_Villa.png\n",
      "images/Chelsea.png\n",
      "images/Liverpool.png\n",
      "images/Man_City.png\n",
      "images/Newcastle.png\n",
      "images/Oldham.png\n",
      "images/Sheffield_United.png\n",
      "images/Southampton.png\n",
      "images/West_Ham.png\n",
      "images/Norwich.png\n",
      "images/Tottenham.png\n",
      "images/Everton.png\n",
      "images/Ipswich.png\n",
      "images/Leeds.png\n",
      "images/Wimbledon.png\n",
      "images/Blackburn.png\n",
      "images/Coventry.png\n",
      "images/Man_United.png\n",
      "images/QPR.png\n",
      "images/Sheffield_Weds.png\n",
      "images/Swindon.png\n",
      "images/Crystal_Palace.png\n",
      "images/Leicester.png\n",
      "images/Bolton.png\n",
      "images/Middlesbrough.png\n",
      "images/Derby.png\n",
      "images/Sunderland.png\n",
      "images/Barnsley.png\n",
      "images/Charlton.png\n",
      "images/Watford.png\n",
      "images/Bradford.png\n",
      "images/Fulham.png\n",
      "images/Birmingham.png\n",
      "images/Middlesboro.png\n",
      "images/West_Brom.png\n",
      "images/Portsmouth.png\n",
      "images/Wolves.png\n",
      "images/Wigan.png\n",
      "images/Reading.png\n",
      "images/Hull.png\n",
      "images/Stoke.png\n",
      "images/Burnley.png\n",
      "images/Blackpool.png\n",
      "images/Swansea.png\n",
      "images/Cardiff.png\n",
      "images/Bournemouth.png\n"
     ]
    },
    {
     "data": {
      "image/png": "[encoded data removed]",
      "text/plain": [
       "<Figure size 432x288 with 1 Axes>"
      ]
     },
     "metadata": {
      "needs_background": "light"
     },
     "output_type": "display_data"
    }
   ],
   "source": [
    "image_path_list = []\n",
    "for team in list_of_team_objects:\n",
    "    objects = ('Win','Loss','Tie')\n",
    "    performance = [team.record[0], team.record[1], team.record[2]]\n",
    "\n",
    "    plt.bar(objects, performance, align='center', alpha=0.5)\n",
    "    plt.xticks(objects)\n",
    "    plt.title(f'{team.name} Record')\n",
    "\n",
    "    team_name = team.name.replace(' ','_') +'.png'\n",
    "    file_name=os.path.join('images', team_name)\n",
    "    print(file_name)\n",
    "    plt.savefig(file_name)\n",
    "    "
   ]
  },
  {
   "cell_type": "code",
   "execution_count": 96,
   "metadata": {},
   "outputs": [
    {
     "data": {
      "text/plain": [
       "[23, 7, 4]"
      ]
     },
     "execution_count": 96,
     "metadata": {},
     "output_type": "execute_result"
    }
   ],
   "source": [
    "Bayern_Munich.record"
   ]
  },
  {
   "cell_type": "code",
   "execution_count": 105,
   "metadata": {},
   "outputs": [],
   "source": [
    "import os"
   ]
  },
  {
   "cell_type": "code",
   "execution_count": 111,
   "metadata": {},
   "outputs": [
    {
     "name": "stdout",
     "output_type": "stream",
     "text": [
      "images/Bayern_Munich.png\n"
     ]
    },
    {
     "data": {
      "image/png": "[encoded data removed]",
      "text/plain": [
       "<Figure size 432x288 with 1 Axes>"
      ]
     },
     "metadata": {
      "needs_background": "light"
     },
     "output_type": "display_data"
    },
    {
     "data": {
      "text/plain": [
       "<Figure size 432x288 with 0 Axes>"
      ]
     },
     "metadata": {},
     "output_type": "display_data"
    }
   ],
   "source": [
    "objects = ('Win','Loss','Tie')\n",
    "performance = [Bayern_Munich.record[0], Bayern_Munich.record[1], Bayern_Munich.record[2]]\n",
    "\n",
    "plt.bar(objects, performance, align='center', alpha=0.5)\n",
    "plt.xticks(objects)\n",
    "plt.ylabel('Number')\n",
    "plt.title(f'Win Loss Draw {Bayern_Munich.name}')\n",
    "\n",
    "team_name = Bayern_Munich.name.replace(' ','_') +'.png'\n",
    "file_name=os.path.join('images', team_name)\n",
    "print(file_name)\n",
    "plt.show()\n",
    "plt.savefig(file_name)\n"
   ]
  },
  {
   "cell_type": "code",
   "execution_count": 103,
   "metadata": {},
   "outputs": [
    {
     "name": "stdout",
     "output_type": "stream",
     "text": [
      "/Users/josephdown/Flatiron-Projects/dsc-mod-2-lab-houston-ds-042219\r\n"
     ]
    }
   ],
   "source": [
    "!pwd"
   ]
  },
  {
   "cell_type": "code",
   "execution_count": 94,
   "metadata": {},
   "outputs": [
    {
     "data": {
      "text/plain": [
       "<matplotlib.axes._subplots.AxesSubplot at 0x11defaf28>"
      ]
     },
     "execution_count": 94,
     "metadata": {},
     "output_type": "execute_result"
    },
    {
     "data": {
      "image/png": "[encoded data removed]",
      "text/plain": [
       "<Figure size 432x288 with 1 Axes>"
      ]
     },
     "metadata": {
      "needs_background": "light"
     },
     "output_type": "display_data"
    }
   ],
   "source": [
    "sns.plot([Bayern_Munich.record[0], Bayern_Munich.record[1], Bayern_Munich.record[2]])"
   ]
  },
  {
   "cell_type": "code",
   "execution_count": null,
   "metadata": {},
   "outputs": [],
   "source": []
  },
  {
   "cell_type": "code",
   "execution_count": 85,
   "metadata": {},
   "outputs": [],
   "source": [
    "class MongoHandler():\n",
    "    def __init__(self, db_name, collection_name):\n",
    "        self.db_name = db_name\n",
    "        self.collection_name = collection_name\n",
    "        \n",
    "        \n",
    "    def initialize_database(self):\n",
    "        myclient = pymongo.MongoClient(\"mongodb://127.0.0.1:27017/\")\n",
    "        self.db_name = myclient[self.db_name]\n",
    "        self.collection_name = self.db_name[self.collection_name]\n",
    "    \n",
    "    def add_records(self, list_of_team_objects)\n",
    "        for team in list_of_team_objects:\n",
    "            team_data = {''}"
   ]
  },
  {
   "cell_type": "code",
   "execution_count": null,
   "metadata": {},
   "outputs": [],
   "source": []
  },
  {
   "cell_type": "code",
   "execution_count": 86,
   "metadata": {},
   "outputs": [],
   "source": [
    "SoccerData = MongoHandler('soccer_db', 'soccer_collection')"
   ]
  },
  {
   "cell_type": "code",
   "execution_count": 87,
   "metadata": {},
   "outputs": [],
   "source": [
    "SoccerData.initialize_database()"
   ]
  },
  {
   "cell_type": "code",
   "execution_count": null,
   "metadata": {},
   "outputs": [],
   "source": []
  }
 ],
 "metadata": {
  "kernelspec": {
   "display_name": "Python 3",
   "language": "python",
   "name": "python3"
  },
  "language_info": {
   "codemirror_mode": {
    "name": "ipython",
    "version": 3
   },
   "file_extension": ".py",
   "mimetype": "text/x-python",
   "name": "python",
   "nbconvert_exporter": "python",
   "pygments_lexer": "ipython3",
   "version": "3.6.8"
  }
 },
 "nbformat": 4,
 "nbformat_minor": 2
}
